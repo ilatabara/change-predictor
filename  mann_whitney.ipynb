{
 "cells": [
  {
   "cell_type": "code",
   "execution_count": 11,
   "metadata": {},
   "outputs": [],
   "source": [
    "import os\n",
    "import os.path as osp\n",
    "import pandas as pd\n",
    "import numpy as np\n",
    "from scipy.stats import mannwhitneyu\n",
    "\n",
    "from utils import helpers as hpr\n",
    "from utils import constants\n",
    "from utils import classifier_util as clas_util\n"
   ]
  },
  {
   "cell_type": "markdown",
   "metadata": {},
   "source": [
    "### Dependent changes"
   ]
  },
  {
   "cell_type": "code",
   "execution_count": 2,
   "metadata": {},
   "outputs": [],
   "source": [
    "df_dependencies = pd.read_csv(osp.join('.', 'Files', \"Preliminary\", 'deps_ident.csv'))"
   ]
  },
  {
   "cell_type": "code",
   "execution_count": 3,
   "metadata": {},
   "outputs": [],
   "source": [
    "df_dependencies = df_dependencies[(df_dependencies['Source_status']!=\"NEW\")&(df_dependencies['Target_status']!=\"NEW\")]"
   ]
  },
  {
   "cell_type": "code",
   "execution_count": 4,
   "metadata": {},
   "outputs": [],
   "source": [
    "dependent_changes = set(hpr.flatten_list(df_dependencies[['Source', 'Target']].values))"
   ]
  },
  {
   "cell_type": "markdown",
   "metadata": {},
   "source": [
    "### Load changes"
   ]
  },
  {
   "cell_type": "code",
   "execution_count": 5,
   "metadata": {},
   "outputs": [
    {
     "name": "stdout",
     "output_type": "stream",
     "text": [
      "Reading OpenStack changes...\n",
      "OpenStack changes loaded successfully...\n"
     ]
    }
   ],
   "source": [
    "df_changes = hpr.combine_openstack_data()"
   ]
  },
  {
   "cell_type": "code",
   "execution_count": 7,
   "metadata": {},
   "outputs": [],
   "source": [
    "df_changes = df_changes[df_changes[\"status\"]!=\"NEW\"]\n",
    "df_changes['is_dependent'] = df_changes['number'].map(lambda nbr: 1 if nbr in dependent_changes else 0)"
   ]
  },
  {
   "cell_type": "code",
   "execution_count": 8,
   "metadata": {},
   "outputs": [],
   "source": [
    "combined_output = pd.read_csv(osp.join(\".\", \"combined_output.csv\"))\n",
    "combined_output.drop(columns=[\"owner_account_id\", 'status'], inplace=True)"
   ]
  },
  {
   "cell_type": "code",
   "execution_count": 9,
   "metadata": {},
   "outputs": [],
   "source": [
    "def calc_mod_file_dep_cha(row):\n",
    "    changed_files = row[\"changed_files\"]\n",
    "    if type(changed_files) is not list:\n",
    "        changed_files = []\n",
    "    return round(100*row['num_mod_file_dep_cha']/len(changed_files), 2) if len(changed_files) != 0 else 0"
   ]
  },
  {
   "cell_type": "code",
   "execution_count": 10,
   "metadata": {},
   "outputs": [],
   "source": [
    "df = clas_util.combine_features()\n",
    "df = pd.merge(\n",
    "    left=df, \n",
    "    right=combined_output, \n",
    "    left_on='number', \n",
    "    right_on='number', \n",
    "    how='left',\n",
    "    suffixes=('_source', '_target')\n",
    ")\n",
    "df['pctg_mod_file_dep_cha'] = df.apply(calc_mod_file_dep_cha, axis=1)\n",
    "df['is_dependent'] = df['number'].map(lambda nbr: 1 if nbr in dependent_changes else 0)\n",
    "df = df.drop(columns=[\n",
    "   \"changed_files\", \"num_mod_file_dep_cha\", 'num_build_failures', \n",
    "    # 'cross_project_changes', 'cross_project_changes_owner', 'pctg_cross_project_changes_owner', \n",
    "    # 'min_num_mod_file_dep_cha', 'max_num_mod_file_dep_cha', 'mean_num_mod_file_dep_cha', 'median_num_mod_file_dep_cha',\n",
    "    # 'pctg_cross_project_changes', 'last_mth_cro_proj_nbr'\n",
    "    ])\n",
    "df.fillna(0, inplace=True)\n",
    "# del df_changes"
   ]
  },
  {
   "cell_type": "code",
   "execution_count": null,
   "metadata": {},
   "outputs": [],
   "source": [
    "def mann_u_test(sample1, sample2):\n",
    "    _, p_value = mannwhitneyu(sample1, sample2)\n",
    "    # Set significance level\n",
    "    alpha = 0.05\n",
    "    if p_value <= alpha:\n",
    "        print(\"Reject the null hypothesis: There is a statistically significant difference between the two samples.\")\n",
    "        print(p_value)\n",
    "    else:\n",
    "        print(\"Fail to reject the null hypothesis: There is no statistically significant difference between the two samples.\")"
   ]
  },
  {
   "cell_type": "markdown",
   "metadata": {},
   "source": [
    "### Age of the project"
   ]
  },
  {
   "cell_type": "code",
   "execution_count": null,
   "metadata": {},
   "outputs": [],
   "source": [
    "sample1 = df.loc[df[\"is_dependent\"]==1, \"project_age\"].tolist()\n",
    "sample2 = df.loc[df[\"is_dependent\"]==0, \"project_age\"].tolist()\n",
    "mann_u_test(sample1, sample2)"
   ]
  },
  {
   "cell_type": "markdown",
   "metadata": {},
   "source": [
    "### changes with number of changed files"
   ]
  },
  {
   "cell_type": "code",
   "execution_count": null,
   "metadata": {},
   "outputs": [],
   "source": [
    "sample1 = df_changes.loc[df_changes[\"is_dependent\"]==1, \"files_count\"].sort_values().tolist()\n",
    "sample2 = df_changes.loc[df_changes[\"is_dependent\"]==0, \"files_count\"].sort_values().tolist()\n",
    "# Perform the Mann-Whitney U test\n",
    "_, p_value = mannwhitneyu(sample1, sample2)"
   ]
  },
  {
   "cell_type": "markdown",
   "metadata": {},
   "source": [
    "### The experience of the developers with dependenct changes"
   ]
  },
  {
   "cell_type": "code",
   "execution_count": null,
   "metadata": {},
   "outputs": [],
   "source": [
    "dev_with_dep = df_changes.loc[df_changes['is_dependent']==1, \"owner_account_id\"].unique()\n",
    "\n",
    "sample1 = df_changes[df_changes['owner_account_id'].isin(dev_with_dep)].groupby(\"owner_account_id\").count()['id'].tolist()\n",
    "sample2 = df_changes[~df_changes['owner_account_id'].isin(dev_with_dep)].groupby(\"owner_account_id\").count()['id'].tolist()\n",
    "_, p_value = mannwhitneyu(sample1, sample2)\n",
    "p_value"
   ]
  }
 ],
 "metadata": {
  "kernelspec": {
   "display_name": "base",
   "language": "python",
   "name": "python3"
  },
  "language_info": {
   "codemirror_mode": {
    "name": "ipython",
    "version": 3
   },
   "file_extension": ".py",
   "mimetype": "text/x-python",
   "name": "python",
   "nbconvert_exporter": "python",
   "pygments_lexer": "ipython3",
   "version": "3.11.1"
  },
  "orig_nbformat": 4
 },
 "nbformat": 4,
 "nbformat_minor": 2
}
